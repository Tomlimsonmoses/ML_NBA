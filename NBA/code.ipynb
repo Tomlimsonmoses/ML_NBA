{
 "cells": [
  {
   "cell_type": "code",
   "execution_count": null,
   "id": "7ddd42c9",
   "metadata": {},
   "outputs": [],
   "source": [
    "import pandas as pd\n",
    "import numpy as np\n",
    "import matplotlib.pyplot as plt\n"
   ]
  },
  {
   "cell_type": "code",
   "execution_count": null,
   "id": "fe0737c1",
   "metadata": {},
   "outputs": [],
   "source": [
    "df=pd.read_csv(\"C:\\\\Users\\\\tomli\\\\Documents\\\\NBA\\\\NBAdataset.csv\")\n",
    "df"
   ]
  },
  {
   "cell_type": "code",
   "execution_count": null,
   "id": "86e49380",
   "metadata": {},
   "outputs": [],
   "source": [
    "df.shape"
   ]
  },
  {
   "cell_type": "code",
   "execution_count": null,
   "id": "ca97c214",
   "metadata": {},
   "outputs": [],
   "source": [
    "df.dropna(inplace=True)\n",
    "df.shape"
   ]
  },
  {
   "cell_type": "code",
   "execution_count": null,
   "id": "b72c7249",
   "metadata": {},
   "outputs": [],
   "source": [
    "df.info()"
   ]
  },
  {
   "cell_type": "code",
   "execution_count": null,
   "id": "0fe91f1d",
   "metadata": {},
   "outputs": [],
   "source": [
    "df_season_wise = df.set_index('year')\n",
    "\n",
    "Undrafted= df_season_wise[df_season_wise['draft_pick']=='Undrafted']\n",
    "df_season_wise['draft_pick']=df_season_wise['draft_pick'].replace('Undrafted', np.NaN)\n",
    "df_season_wise\n"
   ]
  },
  {
   "cell_type": "code",
   "execution_count": null,
   "id": "bdf35c58",
   "metadata": {},
   "outputs": [],
   "source": [
    "\n",
    "col_need =['draft_pick','height_with_shoes','wingspan','standing_reach','vertical_max','vertical_no_step_reach','weight','body_fat','hand_length','agility','sprint']\n",
    "ana_df=df[col_need]\n",
    "ana_df"
   ]
  },
  {
   "cell_type": "code",
   "execution_count": null,
   "id": "3dd76fc2",
   "metadata": {},
   "outputs": [],
   "source": [
    "col_need =['draft_pick','height_with_shoes','wingspan','standing_reach','vertical_max','vertical_no_step_reach','weight','body_fat','hand_length','agility','sprint']\n",
    "ana_df=df[col_need]\n",
    "ana_df"
   ]
  },
  {
   "cell_type": "code",
   "execution_count": null,
   "id": "c196f109",
   "metadata": {},
   "outputs": [],
   "source": [
    "ana_df.duplicated().values.any()"
   ]
  },
  {
   "cell_type": "code",
   "execution_count": null,
   "id": "880b92be",
   "metadata": {},
   "outputs": [],
   "source": [
    "ana_df.corr()"
   ]
  },
  {
   "cell_type": "code",
   "execution_count": null,
   "id": "30b8a97f",
   "metadata": {},
   "outputs": [],
   "source": []
  },
  {
   "cell_type": "code",
   "execution_count": null,
   "id": "acfb75da",
   "metadata": {},
   "outputs": [],
   "source": []
  },
  {
   "cell_type": "code",
   "execution_count": null,
   "id": "71d66d7e",
   "metadata": {},
   "outputs": [],
   "source": [
    "#visualizing relationships between features\n",
    "import matplotlib.pyplot as plt\n",
    "pd.plotting.scatter_matrix(ana_df,figsize=(20,20),alpha=0.5);"
   ]
  },
  {
   "cell_type": "code",
   "execution_count": null,
   "id": "0729a311",
   "metadata": {
    "scrolled": true
   },
   "outputs": [],
   "source": [
    "#plotting all other features correlation with agility\n",
    "fig,((ax1,ax2,ax3,ax4),(ax5,ax6,ax7,ax8),(ax9,ax10,ax11,ax12))=plt.subplots(3,4,figsize=(30,10))\n",
    "ax=[ax1,ax2,ax3,ax4,ax5,ax6,ax7,ax8,ax9,ax10,ax11,ax12]\n",
    "k=0\n",
    "\n",
    "for col in ana_df.columns:\n",
    "    if col!='agility':\n",
    "        ax[k].scatter(ana_df[col],ana_df['agility'])\n",
    "        ax[k].set_xlabel(col)\n",
    "        ax[k].set_ylabel(\"agility\")\n",
    "        k=k+1"
   ]
  },
  {
   "cell_type": "code",
   "execution_count": null,
   "id": "622cb995",
   "metadata": {},
   "outputs": [],
   "source": [
    "#predicting agility dependence on different individual features \n",
    "\n",
    "from sklearn.linear_model import LinearRegression\n",
    "from sklearn.model_selection import train_test_split\n",
    "\n",
    "\n",
    "\n",
    "X=['draft_pick','height_with_shoes','wingspan','standing_reach','vertical_max','vertical_no_step_reach','weight','body_fat','hand_length','agility','sprint']\n",
    "y=['agility']\n",
    "\n",
    "l=[]\n",
    "for x in X:\n",
    "    m=np.array(ana_df[x])\n",
    "    n=np.array(ana_df[y])\n",
    "    X_train,X_test,y_train,y_test=train_test_split(m.reshape(-1,1),n.reshape(-1,1),random_state=0)\n",
    "    model=LinearRegression().fit(X_train,y_train)\n",
    "    print(model.score(X_train,y_train),'  ',model.score(X_test,y_test))\n",
    "    l.append((model.score(X_test,y_test),x))\n",
    "    \n",
    "# returns max model score of the feature that best predicts the agility of the player\n",
    "max(l)"
   ]
  },
  {
   "cell_type": "code",
   "execution_count": null,
   "id": "e09a3393",
   "metadata": {},
   "outputs": [],
   "source": [
    "\n",
    "#Polynomial Regression\n",
    "from sklearn.preprocessing import PolynomialFeatures\n",
    "from sklearn.metrics import r2_score\n",
    "from sklearn.model_selection import cross_val_score\n",
    "\n",
    "\n",
    "X_m=['draft_pick','height_with_shoes','wingspan','standing_reach','vertical_max','vertical_no_step_reach','weight','body_fat','hand_length','sprint']\n",
    "poly_X_m=PolynomialFeatures(degree=2).fit_transform(ana_df[X_m])\n",
    "y_m=['agility']\n",
    "\n",
    "poly_X_train,poly_X_test,y_trainn,y_testt=train_test_split(poly_X_m,ana_df[y_m])\n",
    "\n",
    "poly_model= LinearRegression().fit(poly_X_train,y_trainn)\n",
    "\n",
    "print('training polynomial model score:',poly_model.score(poly_X_train,y_trainn),'\\ntesting polynomial model score:',poly_model.score(poly_X_test,y_testt),\n",
    "      '\\ntraining polynomial model r2 score:',r2_score(y_trainn,poly_model.predict(poly_X_train)),'\\ntesting polynomial model r2 score:',r2_score(y_testt,poly_model.predict(poly_X_test)))\n",
    "\n",
    "#cross validation\n",
    "cv_score=cross_val_score(poly_model,poly_X_m,ana_df[y_m])\n",
    "print('cross validation score:',cv_score)\n",
    "print('mean cross validation score:',np.mean(cv_score))"
   ]
  },
  {
   "cell_type": "code",
   "execution_count": null,
   "id": "94cecda6",
   "metadata": {},
   "outputs": [],
   "source": [
    "#How does height and weight of a player can be used to predict his sprints\n",
    "import seaborn as sns\n",
    "from sklearn.metrics import r2_score\n",
    "from mpl_toolkits.mplot3d import Axes3D\n",
    "%matplotlib notebook\n",
    "\n",
    "col_shoot=['height_with_shoes','weight','sprint']\n",
    "df_shoot= ana_df[col_shoot]\n",
    "\n",
    "X_sht=['height_with_shoes','weight']\n",
    "y_sht=['sprint']\n",
    "\n",
    "X_sht_train,X_sht_test,y_sht_train,y_sht_test= train_test_split(df_shoot[X_sht],df_shoot[y_sht])\n",
    "\n",
    "#Simple Linear Regression model\n",
    "linear_model_sht=LinearRegression().fit(X_sht_train,y_sht_train)\n",
    "print('training_set score:',linear_model_sht.score(X_sht_train,y_sht_train),'\\ntest_set score:',linear_model_sht.score(X_sht_test,y_sht_test),\n",
    "      '\\ntraining_set r2_score:',r2_score(y_sht_train,linear_model_sht.predict(X_sht_train)),'\\ntest_set r2_score:',r2_score(y_sht_test,linear_model_sht.predict(X_sht_test)))\n",
    "predict=linear_model_sht.predict(X_sht_test)\n",
    "plt.figure(figsize=(10, 10))\n",
    "plt.subplot(411)\n",
    "sns.scatterplot(x='height_with_shoes', y='weight', data=df_shoot, alpha=0.5)\n",
    "\n",
    "\n",
    "#sns.scatterplot(df_shoot['height_with_shoes'],df_shoot['weight'],alpha=0.5)\n",
    "\n"
   ]
  },
  {
   "cell_type": "code",
   "execution_count": null,
   "id": "4f6bff3a",
   "metadata": {},
   "outputs": [],
   "source": []
  }
 ],
 "metadata": {
  "kernelspec": {
   "display_name": "Python 3 (ipykernel)",
   "language": "python",
   "name": "python3"
  },
  "language_info": {
   "codemirror_mode": {
    "name": "ipython",
    "version": 3
   },
   "file_extension": ".py",
   "mimetype": "text/x-python",
   "name": "python",
   "nbconvert_exporter": "python",
   "pygments_lexer": "ipython3",
   "version": "3.11.5"
  }
 },
 "nbformat": 4,
 "nbformat_minor": 5
}
